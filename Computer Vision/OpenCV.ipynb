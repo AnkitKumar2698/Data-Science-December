{
 "cells": [
  {
   "cell_type": "code",
   "execution_count": 1,
   "id": "9a3a276f",
   "metadata": {},
   "outputs": [],
   "source": [
    "import cv2"
   ]
  },
  {
   "cell_type": "code",
   "execution_count": 17,
   "id": "e60bcd53",
   "metadata": {},
   "outputs": [],
   "source": [
    "img=cv2.imread('first.jpg')"
   ]
  },
  {
   "cell_type": "code",
   "execution_count": 19,
   "id": "551ce001",
   "metadata": {},
   "outputs": [],
   "source": [
    "cv2.imshow('webcam',img)\n",
    "cv2.waitKey(0)\n",
    "cv2.destroyAllWindows()"
   ]
  },
  {
   "cell_type": "code",
   "execution_count": 10,
   "id": "c0c0c304",
   "metadata": {},
   "outputs": [
    {
     "data": {
      "text/plain": [
       "(683, 1023, 3)"
      ]
     },
     "execution_count": 10,
     "metadata": {},
     "output_type": "execute_result"
    }
   ],
   "source": [
    "img.shape"
   ]
  },
  {
   "cell_type": "code",
   "execution_count": 15,
   "id": "bcd3796a",
   "metadata": {},
   "outputs": [],
   "source": [
    "gray= cv2.cvtColor(img,cv2.COLOR_BGR2GRAY)\n"
   ]
  },
  {
   "cell_type": "code",
   "execution_count": 20,
   "id": "2ab635fd",
   "metadata": {},
   "outputs": [],
   "source": [
    "cv2.imshow('webcam',gray)\n",
    "cv2.waitKey(0)\n",
    "cv2.destroyAllWindows()"
   ]
  },
  {
   "cell_type": "code",
   "execution_count": 14,
   "id": "3445efd9",
   "metadata": {},
   "outputs": [
    {
     "data": {
      "text/plain": [
       "(683, 1023)"
      ]
     },
     "execution_count": 14,
     "metadata": {},
     "output_type": "execute_result"
    }
   ],
   "source": [
    "gray.shape"
   ]
  },
  {
   "cell_type": "code",
   "execution_count": 29,
   "id": "c5f684fa",
   "metadata": {},
   "outputs": [
    {
     "data": {
      "text/plain": [
       "numpy.uint8"
      ]
     },
     "execution_count": 29,
     "metadata": {},
     "output_type": "execute_result"
    }
   ],
   "source": [
    "type(gray[0][0])"
   ]
  },
  {
   "cell_type": "code",
   "execution_count": 34,
   "id": "a40e27c9",
   "metadata": {},
   "outputs": [],
   "source": [
    "hs= cv2.cvtColor(img,cv2.COLOR_BGR2HSV)\n",
    "cv2.imshow('window 1',hs)\n",
    "cv2.waitKey(0)\n",
    "cv2.destroyAllWindows()"
   ]
  },
  {
   "cell_type": "code",
   "execution_count": 33,
   "id": "320cf1dd",
   "metadata": {},
   "outputs": [
    {
     "data": {
      "text/plain": [
       "(683, 1023, 3)"
      ]
     },
     "execution_count": 33,
     "metadata": {},
     "output_type": "execute_result"
    }
   ],
   "source": [
    "hs.shape"
   ]
  },
  {
   "cell_type": "code",
   "execution_count": 39,
   "id": "3180b41b",
   "metadata": {},
   "outputs": [],
   "source": [
    "vid = cv2.VideoCapture('video.mp4')\n",
    "while True:\n",
    "    try:\n",
    "        _,frame= vid.read()\n",
    "        cv2.imshow('window2',frame)\n",
    "    except :\n",
    "        pass\n",
    "    if cv2.waitKey(1)==ord('q'):\n",
    "        break;\n",
    "        \n",
    "cv2.destroyAllWindows()"
   ]
  },
  {
   "cell_type": "code",
   "execution_count": 42,
   "id": "a34b0272",
   "metadata": {},
   "outputs": [
    {
     "data": {
      "text/plain": [
       "array([[237, 234, 230],\n",
       "       [238, 235, 231],\n",
       "       [236, 234, 233],\n",
       "       ...,\n",
       "       [109, 108, 112],\n",
       "       [108, 107, 111],\n",
       "       [108, 107, 111]], dtype=uint8)"
      ]
     },
     "execution_count": 42,
     "metadata": {},
     "output_type": "execute_result"
    }
   ],
   "source": [
    "img[0]"
   ]
  },
  {
   "cell_type": "markdown",
   "id": "4e7325a7",
   "metadata": {},
   "source": [
    "# Lect 2"
   ]
  },
  {
   "cell_type": "code",
   "execution_count": 2,
   "id": "876a7d5b",
   "metadata": {},
   "outputs": [],
   "source": [
    "img=cv2.imread('photo.jpg')\n",
    "cv2.imshow('webcam',img)\n",
    "cv2.waitKey(0)\n",
    "cv2.destroyAllWindows()"
   ]
  },
  {
   "cell_type": "code",
   "execution_count": 6,
   "id": "3250060e",
   "metadata": {},
   "outputs": [],
   "source": [
    "reImg = cv2.resize(img,(700,500))\n",
    "cv2.imshow('webcam',reImg)\n",
    "cv2.waitKey(0)\n",
    "cv2.destroyAllWindows()"
   ]
  },
  {
   "cell_type": "code",
   "execution_count": 8,
   "id": "256f3840",
   "metadata": {},
   "outputs": [],
   "source": [
    "gray= cv2.cvtColor(reImg,cv2.COLOR_BGR2GRAY)\n",
    "cv2.imshow('webcam',gray)\n",
    "cv2.waitKey(0)\n",
    "cv2.destroyAllWindows()"
   ]
  },
  {
   "cell_type": "code",
   "execution_count": 22,
   "id": "2213f5f2",
   "metadata": {},
   "outputs": [],
   "source": [
    "canny_img= cv2.Canny(gray,80,80)\n",
    "cv2.imshow('Ankit',canny_img)\n",
    "cv2.waitKey(0)\n",
    "cv2.destroyAllWindows()"
   ]
  },
  {
   "cell_type": "code",
   "execution_count": 28,
   "id": "0e0753da",
   "metadata": {},
   "outputs": [],
   "source": [
    "import numpy as np\n",
    "kernel = np.ones((1,3),'uint8')\n",
    "erode= cv2.erode(canny_img,kernel,iterations=1)\n",
    "cv2.imshow('Ankit',erode)\n",
    "cv2.waitKey(0)\n",
    "cv2.destroyAllWindows()"
   ]
  },
  {
   "cell_type": "code",
   "execution_count": 33,
   "id": "b9563ec6",
   "metadata": {},
   "outputs": [],
   "source": [
    "kernel = np.ones((2,2),'uint8')\n",
    "dilate= cv2.dilate(erode,kernel,iterations=3)\n",
    "cv2.imshow('Ankit',dilate)\n",
    "cv2.waitKey(0)\n",
    "cv2.destroyAllWindows()"
   ]
  },
  {
   "cell_type": "code",
   "execution_count": 30,
   "id": "2b1eba6a",
   "metadata": {},
   "outputs": [
    {
     "data": {
      "text/plain": [
       "<matplotlib.image.AxesImage at 0x1e57bb65a60>"
      ]
     },
     "execution_count": 30,
     "metadata": {},
     "output_type": "execute_result"
    },
    {
     "data": {
      "image/png": "[encoded data removed]",
      "text/plain": [
       "<Figure size 432x288 with 1 Axes>"
      ]
     },
     "metadata": {
      "needs_background": "light"
     },
     "output_type": "display_data"
    }
   ],
   "source": [
    "import numpy as np\n",
    "from matplotlib import pyplot as plt\n",
    "blank = np.ones((500,500,3),'uint8')\n",
    "plt.imshow(blank)"
   ]
  },
  {
   "cell_type": "code",
   "execution_count": 33,
   "id": "b6537bb7",
   "metadata": {},
   "outputs": [
    {
     "data": {
      "text/plain": [
       "<matplotlib.image.AxesImage at 0x1e57bc7dc10>"
      ]
     },
     "execution_count": 33,
     "metadata": {},
     "output_type": "execute_result"
    },
    {
     "data": {
      "image/png": "[encoded data removed]",
      "text/plain": [
       "<Figure size 432x288 with 1 Axes>"
      ]
     },
     "metadata": {
      "needs_background": "light"
     },
     "output_type": "display_data"
    }
   ],
   "source": [
    "blank[:] = [0,255,255]\n",
    "plt.imshow(blank)"
   ]
  },
  {
   "cell_type": "code",
   "execution_count": 18,
   "id": "577c3b27",
   "metadata": {},
   "outputs": [
    {
     "data": {
      "text/plain": [
       "<matplotlib.image.AxesImage at 0x1e57a7f5220>"
      ]
     },
     "execution_count": 18,
     "metadata": {},
     "output_type": "execute_result"
    },
    {
     "data": {
      "image/png": "[encoded data removed]",
      "text/plain": [
       "<Figure size 432x288 with 1 Axes>"
      ]
     },
     "metadata": {
      "needs_background": "light"
     },
     "output_type": "display_data"
    }
   ],
   "source": [
    "cv2.rectangle(blank,(100,100),(300,200),(255,0,0),50)\n",
    "plt.imshow(blank)"
   ]
  },
  {
   "cell_type": "code",
   "execution_count": 34,
   "id": "77b692be",
   "metadata": {},
   "outputs": [
    {
     "data": {
      "text/plain": [
       "<matplotlib.image.AxesImage at 0x1e57bce0580>"
      ]
     },
     "execution_count": 34,
     "metadata": {},
     "output_type": "execute_result"
    },
    {
     "data": {
      "image/png": "[encoded data removed]",
      "text/plain": [
       "<Figure size 432x288 with 1 Axes>"
      ]
     },
     "metadata": {
      "needs_background": "light"
     },
     "output_type": "display_data"
    }
   ],
   "source": [
    "plt.imshow(cv2.circle(blank,(200,200),200,(255,0,0),5))\n"
   ]
  },
  {
   "cell_type": "code",
   "execution_count": 23,
   "id": "da391f98",
   "metadata": {},
   "outputs": [
    {
     "data": {
      "text/plain": [
       "<matplotlib.image.AxesImage at 0x1e57a965fd0>"
      ]
     },
     "execution_count": 23,
     "metadata": {},
     "output_type": "execute_result"
    },
    {
     "data": {
      "image/png": "[encoded data removed]",
      "text/plain": [
       "<Figure size 432x288 with 1 Axes>"
      ]
     },
     "metadata": {
      "needs_background": "light"
     },
     "output_type": "display_data"
    }
   ],
   "source": [
    "img3=cv2.line(blank,(200,200),(200,400),(255,0,0),2)\n",
    "plt.imshow(img3)\n"
   ]
  },
  {
   "cell_type": "code",
   "execution_count": 35,
   "id": "bd276197",
   "metadata": {},
   "outputs": [
    {
     "data": {
      "text/plain": [
       "<matplotlib.image.AxesImage at 0x1e57bd3beb0>"
      ]
     },
     "execution_count": 35,
     "metadata": {},
     "output_type": "execute_result"
    },
    {
     "data": {
      "image/png": "[encoded data removed]",
      "text/plain": [
       "<Figure size 432x288 with 1 Axes>"
      ]
     },
     "metadata": {
      "needs_background": "light"
     },
     "output_type": "display_data"
    }
   ],
   "source": [
    "cv2.putText(blank,\"Circle\",(100,500),cv2.FONT_HERSHEY_TRIPLEX,3,(255,0,0),3)\n",
    "plt.imshow(blank)"
   ]
  },
  {
   "cell_type": "code",
   "execution_count": 39,
   "id": "d0015a86",
   "metadata": {},
   "outputs": [],
   "source": [
    "vid = cv2.VideoCapture(0)\n",
    "while True:\n",
    "    try:\n",
    "        _,frame= vid.read()\n",
    "        cv2.imshow('window2',frame)\n",
    "    except :\n",
    "        pass\n",
    "    if cv2.waitKey(1)==ord('q'):\n",
    "        break;\n",
    "        \n",
    "cv2.destroyAllWindows()"
   ]
  },
  {
   "cell_type": "markdown",
   "id": "63079f9a",
   "metadata": {},
   "source": [
    "Color Detection"
   ]
  },
  {
   "cell_type": "code",
   "execution_count": 16,
   "id": "03e091dc",
   "metadata": {},
   "outputs": [],
   "source": [
    "import numpy as np\n",
    "vid = cv2.VideoCapture(0)\n",
    "while(1 ) :\n",
    "    _,frame= vid.read()\n",
    "    frame = cv2.flip(frame,1)\n",
    "    hsv = cv2.cvtColor(frame, cv2.COLOR_BGR2HSV)\n",
    "    red_L =np.array([132,85,110],'uint8')\n",
    "    red_U = np.array([179,250,250],'uint8')\n",
    "    redM = cv2.inRange(hsv,red_L,red_U)\n",
    "    kernel = np.ones((5,5),'uint8')\n",
    "    redM = cv2.dilate(redM,kernel)\n",
    "    conts,_ = cv2.findContours(redM,cv2.RETR_TREE,cv2.CHAIN_APPROX_SIMPLE)\n",
    "    for cont in conts :\n",
    "        area = cv2.contourArea(cont)\n",
    "        if(area>100) :\n",
    "            x,y,w,h =cv2.boundingRect(cont)\n",
    "            cv2.rectangle(frame,(x,y),(x+w,y+h),(0,0,255),3)\n",
    "            cv2.putText(frame,\"Red Color\",(x,y),cv2.FONT_HERSHEY_SIMPLEX,2,(0,0,255))\n",
    "    cv2.imshow(\"win1\",frame)\n",
    "    if cv2.waitKey(1)==ord('q'):\n",
    "        break;\n",
    "        \n",
    "cv2.destroyAllWindows()"
   ]
  },
  {
   "cell_type": "code",
   "execution_count": null,
   "id": "2b8d55f5",
   "metadata": {},
   "outputs": [],
   "source": []
  }
 ],
 "metadata": {
  "kernelspec": {
   "display_name": "Python 3 (ipykernel)",
   "language": "python",
   "name": "python3"
  },
  "language_info": {
   "codemirror_mode": {
    "name": "ipython",
    "version": 3
   },
   "file_extension": ".py",
   "mimetype": "text/x-python",
   "name": "python",
   "nbconvert_exporter": "python",
   "pygments_lexer": "ipython3",
   "version": "3.9.7"
  }
 },
 "nbformat": 4,
 "nbformat_minor": 5
}
