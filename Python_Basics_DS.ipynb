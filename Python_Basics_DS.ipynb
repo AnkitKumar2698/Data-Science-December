{
  "nbformat": 4,
  "nbformat_minor": 0,
  "metadata": {
    "colab": {
      "name": "Python Basics DS.ipynb",
      "provenance": [],
      "authorship_tag": "ABX9TyNVpPAWhu8lLkGrzBEsIr36",
      "include_colab_link": true
    },
    "kernelspec": {
      "name": "python3",
      "display_name": "Python 3"
    },
    "language_info": {
      "name": "python"
    }
  },
  "cells": [
    {
      "cell_type": "markdown",
      "metadata": {
        "id": "view-in-github",
        "colab_type": "text"
      },
      "source": [
        "<a href=\"https://colab.research.google.com/github/aman5898/Data-Science-December/blob/main/Python_Basics_DS.ipynb\" target=\"_parent\"><img src=\"https://colab.research.google.com/assets/colab-badge.svg\" alt=\"Open In Colab\"/></a>"
      ]
    },
    {
      "cell_type": "code",
      "execution_count": 4,
      "metadata": {
        "colab": {
          "base_uri": "https://localhost:8080/"
        },
        "id": "N6asmN_A9iBc",
        "outputId": "5cb27e02-dc54-4ed6-a7ae-f39b3c2df261"
      },
      "outputs": [
        {
          "output_type": "stream",
          "name": "stdout",
          "text": [
            "Hello Pepcoding\n"
          ]
        }
      ],
      "source": [
        "print(\"Hello Pepcoding\")"
      ]
    },
    {
      "cell_type": "code",
      "source": [
        "num = 10"
      ],
      "metadata": {
        "id": "O79fMHmZ-LtV"
      },
      "execution_count": 5,
      "outputs": []
    },
    {
      "cell_type": "code",
      "source": [
        "string = \"Pepcoding\""
      ],
      "metadata": {
        "id": "Ej8ZfwQm-8HK"
      },
      "execution_count": 6,
      "outputs": []
    },
    {
      "cell_type": "code",
      "source": [
        "flt = 2.2"
      ],
      "metadata": {
        "id": "r0RsboJS-_Wx"
      },
      "execution_count": 7,
      "outputs": []
    },
    {
      "cell_type": "code",
      "source": [
        "print(type(num))"
      ],
      "metadata": {
        "colab": {
          "base_uri": "https://localhost:8080/"
        },
        "id": "rQUL1qk3_gz_",
        "outputId": "f6f18540-1bb6-46fc-e4c7-cc13e9a3f36b"
      },
      "execution_count": 8,
      "outputs": [
        {
          "output_type": "stream",
          "name": "stdout",
          "text": [
            "<class 'int'>\n"
          ]
        }
      ]
    },
    {
      "cell_type": "code",
      "source": [
        "print(type(string))\n",
        "print(type(flt))"
      ],
      "metadata": {
        "colab": {
          "base_uri": "https://localhost:8080/"
        },
        "id": "dbR2alQY_iuS",
        "outputId": "d28f0276-2bf6-44a1-d216-6523d236ed58"
      },
      "execution_count": 9,
      "outputs": [
        {
          "output_type": "stream",
          "name": "stdout",
          "text": [
            "<class 'str'>\n",
            "<class 'float'>\n"
          ]
        }
      ]
    },
    {
      "cell_type": "code",
      "source": [
        "print(type(num),type(string),type(flt))"
      ],
      "metadata": {
        "colab": {
          "base_uri": "https://localhost:8080/"
        },
        "id": "50RJq4-V_mX7",
        "outputId": "b68008c5-f612-4146-9f16-20e44029ca09"
      },
      "execution_count": 10,
      "outputs": [
        {
          "output_type": "stream",
          "name": "stdout",
          "text": [
            "<class 'int'> <class 'str'> <class 'float'>\n"
          ]
        }
      ]
    },
    {
      "cell_type": "code",
      "source": [
        "a,b,c = 10,20,30"
      ],
      "metadata": {
        "id": "5KIWYwt__r9J"
      },
      "execution_count": 11,
      "outputs": []
    },
    {
      "cell_type": "code",
      "source": [
        "print(a,b,c)"
      ],
      "metadata": {
        "colab": {
          "base_uri": "https://localhost:8080/"
        },
        "id": "n3pGULb1_11l",
        "outputId": "3a632603-a973-494b-ec01-066811f30233"
      },
      "execution_count": 12,
      "outputs": [
        {
          "output_type": "stream",
          "name": "stdout",
          "text": [
            "10 20 30\n"
          ]
        }
      ]
    },
    {
      "cell_type": "code",
      "source": [
        "a=b=c=50"
      ],
      "metadata": {
        "id": "YxJzlfea_3LL"
      },
      "execution_count": 13,
      "outputs": []
    },
    {
      "cell_type": "code",
      "source": [
        "print(a,b,c)"
      ],
      "metadata": {
        "colab": {
          "base_uri": "https://localhost:8080/"
        },
        "id": "pXO8F6AH_5kC",
        "outputId": "69501cca-2ece-4c2b-aef4-f7ab8069a497"
      },
      "execution_count": 14,
      "outputs": [
        {
          "output_type": "stream",
          "name": "stdout",
          "text": [
            "50 50 50\n"
          ]
        }
      ]
    },
    {
      "cell_type": "code",
      "source": [
        "import keyword\n",
        "print(keyword.kwlist)"
      ],
      "metadata": {
        "colab": {
          "base_uri": "https://localhost:8080/"
        },
        "id": "GWX4XXXx_7Ga",
        "outputId": "a42f622f-46d6-45e7-fd6d-47dd381f88cc"
      },
      "execution_count": 15,
      "outputs": [
        {
          "output_type": "stream",
          "name": "stdout",
          "text": [
            "['False', 'None', 'True', 'and', 'as', 'assert', 'async', 'await', 'break', 'class', 'continue', 'def', 'del', 'elif', 'else', 'except', 'finally', 'for', 'from', 'global', 'if', 'import', 'in', 'is', 'lambda', 'nonlocal', 'not', 'or', 'pass', 'raise', 'return', 'try', 'while', 'with', 'yield']\n"
          ]
        }
      ]
    },
    {
      "cell_type": "code",
      "source": [
        "num1 = 10"
      ],
      "metadata": {
        "id": "FUkLKLmbACPt"
      },
      "execution_count": 16,
      "outputs": []
    },
    {
      "cell_type": "code",
      "source": [
        "num2 = 4.4\n",
        "num3 = 5+8j"
      ],
      "metadata": {
        "id": "95dL2xpAAQK0"
      },
      "execution_count": 17,
      "outputs": []
    },
    {
      "cell_type": "code",
      "source": [
        "print(num1,num2,num3)"
      ],
      "metadata": {
        "colab": {
          "base_uri": "https://localhost:8080/"
        },
        "id": "UzkVpMxgATuG",
        "outputId": "31be0c68-5f9a-46f8-e284-18fb1df82012"
      },
      "execution_count": 18,
      "outputs": [
        {
          "output_type": "stream",
          "name": "stdout",
          "text": [
            "10 4.4 (5+8j)\n"
          ]
        }
      ]
    },
    {
      "cell_type": "markdown",
      "source": [
        "### String"
      ],
      "metadata": {
        "id": "1C5YQ6e5BH9q"
      }
    },
    {
      "cell_type": "code",
      "source": [
        "phrase = \"Pepcoding\""
      ],
      "metadata": {
        "id": "VR0cjcoYAWqC"
      },
      "execution_count": 19,
      "outputs": []
    },
    {
      "cell_type": "code",
      "source": [
        "print(phrase[0])"
      ],
      "metadata": {
        "colab": {
          "base_uri": "https://localhost:8080/"
        },
        "id": "JvEbs1ruBSU7",
        "outputId": "39004243-0102-4a5f-e38a-94ca623dba78"
      },
      "execution_count": 20,
      "outputs": [
        {
          "output_type": "stream",
          "name": "stdout",
          "text": [
            "P\n"
          ]
        }
      ]
    },
    {
      "cell_type": "code",
      "source": [
        "phrase[0]='i'"
      ],
      "metadata": {
        "colab": {
          "base_uri": "https://localhost:8080/",
          "height": 170
        },
        "id": "6RVPlLYXBYPT",
        "outputId": "98103ae3-77a1-4984-9a11-a432f6b4cb0b"
      },
      "execution_count": 21,
      "outputs": [
        {
          "output_type": "error",
          "ename": "TypeError",
          "evalue": "ignored",
          "traceback": [
            "\u001b[0;31m---------------------------------------------------------------------------\u001b[0m",
            "\u001b[0;31mTypeError\u001b[0m                                 Traceback (most recent call last)",
            "\u001b[0;32m<ipython-input-21-2c2bee793f88>\u001b[0m in \u001b[0;36m<module>\u001b[0;34m()\u001b[0m\n\u001b[0;32m----> 1\u001b[0;31m \u001b[0mphrase\u001b[0m\u001b[0;34m[\u001b[0m\u001b[0;36m0\u001b[0m\u001b[0;34m]\u001b[0m\u001b[0;34m=\u001b[0m\u001b[0;34m'i'\u001b[0m\u001b[0;34m\u001b[0m\u001b[0;34m\u001b[0m\u001b[0m\n\u001b[0m",
            "\u001b[0;31mTypeError\u001b[0m: 'str' object does not support item assignment"
          ]
        }
      ]
    },
    {
      "cell_type": "code",
      "source": [
        "phrase[0:3]"
      ],
      "metadata": {
        "colab": {
          "base_uri": "https://localhost:8080/",
          "height": 36
        },
        "id": "TwvPMdGwBbQP",
        "outputId": "69a6f0c6-04d3-46b8-c2ba-130918bdbcd6"
      },
      "execution_count": 22,
      "outputs": [
        {
          "output_type": "execute_result",
          "data": {
            "application/vnd.google.colaboratory.intrinsic+json": {
              "type": "string"
            },
            "text/plain": [
              "'Pep'"
            ]
          },
          "metadata": {},
          "execution_count": 22
        }
      ]
    },
    {
      "cell_type": "code",
      "source": [
        "phrase[0:]"
      ],
      "metadata": {
        "colab": {
          "base_uri": "https://localhost:8080/",
          "height": 36
        },
        "id": "ee0eaoygBwgL",
        "outputId": "cd19c002-5c6a-4feb-ec79-920fbe5a4992"
      },
      "execution_count": 23,
      "outputs": [
        {
          "output_type": "execute_result",
          "data": {
            "application/vnd.google.colaboratory.intrinsic+json": {
              "type": "string"
            },
            "text/plain": [
              "'Pepcoding'"
            ]
          },
          "metadata": {},
          "execution_count": 23
        }
      ]
    },
    {
      "cell_type": "code",
      "source": [
        "phrase[:3]"
      ],
      "metadata": {
        "colab": {
          "base_uri": "https://localhost:8080/",
          "height": 36
        },
        "id": "ZPdckoTiB1aq",
        "outputId": "ecb06595-a71e-45ac-c1d6-94d57cea3285"
      },
      "execution_count": 24,
      "outputs": [
        {
          "output_type": "execute_result",
          "data": {
            "application/vnd.google.colaboratory.intrinsic+json": {
              "type": "string"
            },
            "text/plain": [
              "'Pep'"
            ]
          },
          "metadata": {},
          "execution_count": 24
        }
      ]
    },
    {
      "cell_type": "code",
      "source": [
        "phrase[:]"
      ],
      "metadata": {
        "colab": {
          "base_uri": "https://localhost:8080/",
          "height": 36
        },
        "id": "dEb8iKKHB4UQ",
        "outputId": "a2a20eeb-06c2-4fdd-8047-7dd9d6eb8e96"
      },
      "execution_count": 25,
      "outputs": [
        {
          "output_type": "execute_result",
          "data": {
            "application/vnd.google.colaboratory.intrinsic+json": {
              "type": "string"
            },
            "text/plain": [
              "'Pepcoding'"
            ]
          },
          "metadata": {},
          "execution_count": 25
        }
      ]
    },
    {
      "cell_type": "code",
      "source": [
        "phrase[0:5:2]"
      ],
      "metadata": {
        "colab": {
          "base_uri": "https://localhost:8080/",
          "height": 36
        },
        "id": "NDgtfE07B7ww",
        "outputId": "a80efa2e-beea-4c1f-fefe-ea972e6a203f"
      },
      "execution_count": 26,
      "outputs": [
        {
          "output_type": "execute_result",
          "data": {
            "application/vnd.google.colaboratory.intrinsic+json": {
              "type": "string"
            },
            "text/plain": [
              "'Ppo'"
            ]
          },
          "metadata": {},
          "execution_count": 26
        }
      ]
    },
    {
      "cell_type": "code",
      "source": [
        "phrase[7:1:1]"
      ],
      "metadata": {
        "colab": {
          "base_uri": "https://localhost:8080/",
          "height": 36
        },
        "id": "iewV4x0FCKh7",
        "outputId": "b617ff4e-dabf-450c-a32a-3a228d30993c"
      },
      "execution_count": 27,
      "outputs": [
        {
          "output_type": "execute_result",
          "data": {
            "application/vnd.google.colaboratory.intrinsic+json": {
              "type": "string"
            },
            "text/plain": [
              "''"
            ]
          },
          "metadata": {},
          "execution_count": 27
        }
      ]
    },
    {
      "cell_type": "code",
      "source": [
        "phrase[7:1:-1]"
      ],
      "metadata": {
        "colab": {
          "base_uri": "https://localhost:8080/",
          "height": 36
        },
        "id": "yp6mgLzUCj-v",
        "outputId": "d6b0423a-2851-42f6-9418-1db5cc5315ae"
      },
      "execution_count": 28,
      "outputs": [
        {
          "output_type": "execute_result",
          "data": {
            "application/vnd.google.colaboratory.intrinsic+json": {
              "type": "string"
            },
            "text/plain": [
              "'nidocp'"
            ]
          },
          "metadata": {},
          "execution_count": 28
        }
      ]
    },
    {
      "cell_type": "code",
      "source": [
        "phrase[-1]"
      ],
      "metadata": {
        "colab": {
          "base_uri": "https://localhost:8080/",
          "height": 36
        },
        "id": "Lz4w7L2QDC9r",
        "outputId": "138b0623-cca9-44cb-8f3e-e7f001c851c0"
      },
      "execution_count": 29,
      "outputs": [
        {
          "output_type": "execute_result",
          "data": {
            "application/vnd.google.colaboratory.intrinsic+json": {
              "type": "string"
            },
            "text/plain": [
              "'g'"
            ]
          },
          "metadata": {},
          "execution_count": 29
        }
      ]
    },
    {
      "cell_type": "code",
      "source": [
        "phrase[-1:-5:-1]"
      ],
      "metadata": {
        "colab": {
          "base_uri": "https://localhost:8080/",
          "height": 36
        },
        "id": "xQ43nZL-DO_f",
        "outputId": "54d2e8a3-310d-4787-e0d3-6ca7860dc442"
      },
      "execution_count": 30,
      "outputs": [
        {
          "output_type": "execute_result",
          "data": {
            "application/vnd.google.colaboratory.intrinsic+json": {
              "type": "string"
            },
            "text/plain": [
              "'gnid'"
            ]
          },
          "metadata": {},
          "execution_count": 30
        }
      ]
    },
    {
      "cell_type": "code",
      "source": [
        "phrase[::-1]"
      ],
      "metadata": {
        "colab": {
          "base_uri": "https://localhost:8080/",
          "height": 36
        },
        "id": "TtLOGvvdDX96",
        "outputId": "3944a3f2-c6f0-4225-caaf-0679b5285633"
      },
      "execution_count": 31,
      "outputs": [
        {
          "output_type": "execute_result",
          "data": {
            "application/vnd.google.colaboratory.intrinsic+json": {
              "type": "string"
            },
            "text/plain": [
              "'gnidocpeP'"
            ]
          },
          "metadata": {},
          "execution_count": 31
        }
      ]
    },
    {
      "cell_type": "code",
      "source": [
        "len(phrase)"
      ],
      "metadata": {
        "colab": {
          "base_uri": "https://localhost:8080/"
        },
        "id": "xUMEYPE-DoBl",
        "outputId": "5269bc5f-29ae-4749-edb8-0d88e6747725"
      },
      "execution_count": 32,
      "outputs": [
        {
          "output_type": "execute_result",
          "data": {
            "text/plain": [
              "9"
            ]
          },
          "metadata": {},
          "execution_count": 32
        }
      ]
    },
    {
      "cell_type": "code",
      "source": [
        "phrase[-1:-9:-1]"
      ],
      "metadata": {
        "colab": {
          "base_uri": "https://localhost:8080/",
          "height": 36
        },
        "id": "sUy3h5ZmE4KX",
        "outputId": "ee118ca8-1850-42ea-fd87-aa0ed0f8a372"
      },
      "execution_count": 33,
      "outputs": [
        {
          "output_type": "execute_result",
          "data": {
            "application/vnd.google.colaboratory.intrinsic+json": {
              "type": "string"
            },
            "text/plain": [
              "'gnidocpe'"
            ]
          },
          "metadata": {},
          "execution_count": 33
        }
      ]
    },
    {
      "cell_type": "code",
      "source": [
        "phrase[10:1]"
      ],
      "metadata": {
        "colab": {
          "base_uri": "https://localhost:8080/",
          "height": 36
        },
        "id": "KBJCFXLGFQ9i",
        "outputId": "b3f6728d-5e8d-468a-cb7f-8d7451d8b7c4"
      },
      "execution_count": 35,
      "outputs": [
        {
          "output_type": "execute_result",
          "data": {
            "application/vnd.google.colaboratory.intrinsic+json": {
              "type": "string"
            },
            "text/plain": [
              "''"
            ]
          },
          "metadata": {},
          "execution_count": 35
        }
      ]
    },
    {
      "cell_type": "code",
      "source": [
        "for ch in phrase:\n",
        "  print(ch)"
      ],
      "metadata": {
        "colab": {
          "base_uri": "https://localhost:8080/"
        },
        "id": "eQfAGW--Fkpy",
        "outputId": "2426227f-d405-4ebc-915d-3318ffa8e0e0"
      },
      "execution_count": 36,
      "outputs": [
        {
          "output_type": "stream",
          "name": "stdout",
          "text": [
            "P\n",
            "e\n",
            "p\n",
            "c\n",
            "o\n",
            "d\n",
            "i\n",
            "n\n",
            "g\n"
          ]
        }
      ]
    },
    {
      "cell_type": "code",
      "source": [
        "if \"Pep\" in phrase:\n",
        "  print(\"Hello\")"
      ],
      "metadata": {
        "colab": {
          "base_uri": "https://localhost:8080/"
        },
        "id": "U5SQv5tbG_YC",
        "outputId": "5f196c4c-1b59-44b0-e779-2fe83f2cd918"
      },
      "execution_count": 38,
      "outputs": [
        {
          "output_type": "stream",
          "name": "stdout",
          "text": [
            "Hello\n"
          ]
        }
      ]
    },
    {
      "cell_type": "code",
      "source": [
        "phrase.upper()"
      ],
      "metadata": {
        "colab": {
          "base_uri": "https://localhost:8080/",
          "height": 36
        },
        "id": "JVuP50DpHIyE",
        "outputId": "09dd37db-95d1-4574-969a-11b372a49bec"
      },
      "execution_count": 39,
      "outputs": [
        {
          "output_type": "execute_result",
          "data": {
            "application/vnd.google.colaboratory.intrinsic+json": {
              "type": "string"
            },
            "text/plain": [
              "'PEPCODING'"
            ]
          },
          "metadata": {},
          "execution_count": 39
        }
      ]
    },
    {
      "cell_type": "code",
      "source": [
        "phrase.lower()"
      ],
      "metadata": {
        "colab": {
          "base_uri": "https://localhost:8080/",
          "height": 36
        },
        "id": "st58OyJQHaVS",
        "outputId": "67228804-0015-400b-bb9b-58be8e0f8462"
      },
      "execution_count": 40,
      "outputs": [
        {
          "output_type": "execute_result",
          "data": {
            "application/vnd.google.colaboratory.intrinsic+json": {
              "type": "string"
            },
            "text/plain": [
              "'pepcoding'"
            ]
          },
          "metadata": {},
          "execution_count": 40
        }
      ]
    },
    {
      "cell_type": "code",
      "source": [
        "string = \"My name is Anthony Gonsalvis\"\n",
        "\n",
        "str2 = string.split(\" \")\n",
        "print(str2)"
      ],
      "metadata": {
        "colab": {
          "base_uri": "https://localhost:8080/"
        },
        "id": "31F-s1BuHbxe",
        "outputId": "5cc7c2d4-3a38-4cec-828c-ccc353ea242d"
      },
      "execution_count": 46,
      "outputs": [
        {
          "output_type": "stream",
          "name": "stdout",
          "text": [
            "['My', 'name', 'is', 'Anthony', 'Gonsalvis']\n"
          ]
        }
      ]
    },
    {
      "cell_type": "code",
      "source": [
        "print(str2)"
      ],
      "metadata": {
        "colab": {
          "base_uri": "https://localhost:8080/"
        },
        "id": "GSM8Qq7JHpO-",
        "outputId": "97f02a9b-29ff-43d9-c4f4-7ab9ad612006"
      },
      "execution_count": 42,
      "outputs": [
        {
          "output_type": "stream",
          "name": "stdout",
          "text": [
            "['My', 'name', 'is', 'Anthony', 'Gonsalvis']\n"
          ]
        }
      ]
    },
    {
      "cell_type": "code",
      "source": [
        "if 1>2:\n",
        "  print(\"Hello JI\")\n",
        "else:\n",
        "  print(\"Na ji\")"
      ],
      "metadata": {
        "colab": {
          "base_uri": "https://localhost:8080/"
        },
        "id": "jGMI5nZzHrdK",
        "outputId": "9695d405-066d-499f-bf51-84294ffd036b"
      },
      "execution_count": 43,
      "outputs": [
        {
          "output_type": "stream",
          "name": "stdout",
          "text": [
            "Na ji\n"
          ]
        }
      ]
    },
    {
      "cell_type": "code",
      "source": [
        "marks = 89"
      ],
      "metadata": {
        "id": "zykIRP5eIKzl"
      },
      "execution_count": 44,
      "outputs": []
    },
    {
      "cell_type": "code",
      "source": [
        "if marks>90:\n",
        "  print(\"A+\")\n",
        "  if marks>95:\n",
        "    print(\"Super Brilliant\")\n",
        "elif marks>80:\n",
        "  print(\"B+\")\n",
        "else:\n",
        "  print(\"fail\")"
      ],
      "metadata": {
        "colab": {
          "base_uri": "https://localhost:8080/"
        },
        "id": "xCfLOjBlIN6h",
        "outputId": "48c0b6f8-3808-4767-a920-78e6ddd5d66c"
      },
      "execution_count": 45,
      "outputs": [
        {
          "output_type": "stream",
          "name": "stdout",
          "text": [
            "B+\n"
          ]
        }
      ]
    },
    {
      "cell_type": "code",
      "source": [
        "for i in range(5):\n",
        "  print(i)"
      ],
      "metadata": {
        "colab": {
          "base_uri": "https://localhost:8080/"
        },
        "id": "YbHrAGMVIYlk",
        "outputId": "1fcd12e1-4a60-4c60-cb30-964d747d4ac5"
      },
      "execution_count": 47,
      "outputs": [
        {
          "output_type": "stream",
          "name": "stdout",
          "text": [
            "0\n",
            "1\n",
            "2\n",
            "3\n",
            "4\n"
          ]
        }
      ]
    },
    {
      "cell_type": "code",
      "source": [
        "for i in range(2,5):\n",
        "  print(i)\n",
        "  for j in range(5,10):\n",
        "    print(j)"
      ],
      "metadata": {
        "colab": {
          "base_uri": "https://localhost:8080/"
        },
        "id": "H90gTH_LJPQi",
        "outputId": "cec1433e-5c50-4df0-b474-26381b4b50dd"
      },
      "execution_count": 50,
      "outputs": [
        {
          "output_type": "stream",
          "name": "stdout",
          "text": [
            "2\n",
            "5\n",
            "6\n",
            "7\n",
            "8\n",
            "9\n",
            "3\n",
            "5\n",
            "6\n",
            "7\n",
            "8\n",
            "9\n",
            "4\n",
            "5\n",
            "6\n",
            "7\n",
            "8\n",
            "9\n"
          ]
        }
      ]
    },
    {
      "cell_type": "code",
      "source": [
        "for i in range(5):\n",
        "  print(str(i)+\" Hello\")\n",
        "  if i ==2:\n",
        "    break"
      ],
      "metadata": {
        "colab": {
          "base_uri": "https://localhost:8080/"
        },
        "id": "HLjR8FJfJVkS",
        "outputId": "2d283beb-c3a3-4b4c-a315-86ec61b51b42"
      },
      "execution_count": 53,
      "outputs": [
        {
          "output_type": "stream",
          "name": "stdout",
          "text": [
            "0 Hello\n",
            "1 Hello\n",
            "2 Hello\n"
          ]
        }
      ]
    },
    {
      "cell_type": "code",
      "source": [
        "for i in range(5):\n",
        "  if i ==2:\n",
        "    continue\n",
        "  print(str(i)+\" Hello\")"
      ],
      "metadata": {
        "colab": {
          "base_uri": "https://localhost:8080/"
        },
        "id": "6lN34F9pJwpg",
        "outputId": "56fd7983-bb0f-41ae-a598-8892d8c6fd77"
      },
      "execution_count": 54,
      "outputs": [
        {
          "output_type": "stream",
          "name": "stdout",
          "text": [
            "0 Hello\n",
            "1 Hello\n",
            "3 Hello\n",
            "4 Hello\n"
          ]
        }
      ]
    },
    {
      "cell_type": "code",
      "source": [
        "for i in range(5):\n",
        "  if i ==2:\n",
        "    continue \n",
        "    print(str(i)+\"hello\")\n"
      ],
      "metadata": {
        "id": "qg-LldvJKGU2"
      },
      "execution_count": 55,
      "outputs": []
    },
    {
      "cell_type": "markdown",
      "source": [
        "### List [ ]"
      ],
      "metadata": {
        "id": "oFbgdaJGMrAp"
      }
    },
    {
      "cell_type": "code",
      "source": [
        "lst = [1,5,6]"
      ],
      "metadata": {
        "id": "_R9XABaLL_a2"
      },
      "execution_count": 56,
      "outputs": []
    },
    {
      "cell_type": "code",
      "source": [
        "print(type(lst))"
      ],
      "metadata": {
        "colab": {
          "base_uri": "https://localhost:8080/"
        },
        "id": "nwCzX7gcMzM4",
        "outputId": "51c04128-03b6-435d-e9a0-551bb705b7e9"
      },
      "execution_count": 57,
      "outputs": [
        {
          "output_type": "stream",
          "name": "stdout",
          "text": [
            "<class 'list'>\n"
          ]
        }
      ]
    },
    {
      "cell_type": "code",
      "source": [
        "lst.append(7)"
      ],
      "metadata": {
        "id": "m1ESkToJM0zw"
      },
      "execution_count": 58,
      "outputs": []
    },
    {
      "cell_type": "code",
      "source": [
        "lst.append(\"Pepcoding\")"
      ],
      "metadata": {
        "id": "O-rGasrAM2x6"
      },
      "execution_count": 59,
      "outputs": []
    },
    {
      "cell_type": "code",
      "source": [
        "print(lst)"
      ],
      "metadata": {
        "colab": {
          "base_uri": "https://localhost:8080/"
        },
        "id": "P_4jtnSIM4ZQ",
        "outputId": "d31871f6-dd90-4403-c935-448e40f3ddc6"
      },
      "execution_count": 62,
      "outputs": [
        {
          "output_type": "stream",
          "name": "stdout",
          "text": [
            "[500, 5, 6, 7, 'Pepcoding']\n"
          ]
        }
      ]
    },
    {
      "cell_type": "code",
      "source": [
        "lst[0]=500"
      ],
      "metadata": {
        "id": "pfWlwTCNM6cN"
      },
      "execution_count": 61,
      "outputs": []
    },
    {
      "cell_type": "code",
      "source": [
        "lst2 = [1,1]"
      ],
      "metadata": {
        "id": "gz4gOaHXNAc0"
      },
      "execution_count": 63,
      "outputs": []
    },
    {
      "cell_type": "code",
      "source": [
        "lst2.append(lst)"
      ],
      "metadata": {
        "id": "2Ikmfa8MNKO9"
      },
      "execution_count": 64,
      "outputs": []
    },
    {
      "cell_type": "code",
      "source": [
        "print(lst2)"
      ],
      "metadata": {
        "colab": {
          "base_uri": "https://localhost:8080/"
        },
        "id": "yNNNSwOxNLbs",
        "outputId": "1497fc11-da7f-4dc8-a60f-2278884cf1bf"
      },
      "execution_count": 65,
      "outputs": [
        {
          "output_type": "stream",
          "name": "stdout",
          "text": [
            "[1, 1, [500, 5, 6, 7, 'Pepcoding']]\n"
          ]
        }
      ]
    },
    {
      "cell_type": "code",
      "source": [
        "lst.append(5)"
      ],
      "metadata": {
        "id": "9YlyTNYkNMzo"
      },
      "execution_count": 66,
      "outputs": []
    },
    {
      "cell_type": "code",
      "source": [
        "print(lst)"
      ],
      "metadata": {
        "colab": {
          "base_uri": "https://localhost:8080/"
        },
        "id": "3GFR6b_uNThz",
        "outputId": "5ca7a09d-602b-4092-bcc6-147e6d3122af"
      },
      "execution_count": 67,
      "outputs": [
        {
          "output_type": "stream",
          "name": "stdout",
          "text": [
            "[500, 5, 6, 7, 'Pepcoding', 5]\n"
          ]
        }
      ]
    },
    {
      "cell_type": "code",
      "source": [
        "lst[-1]"
      ],
      "metadata": {
        "colab": {
          "base_uri": "https://localhost:8080/"
        },
        "id": "E5iIWb0wNUJx",
        "outputId": "82274167-0645-47ca-d639-38b5466b2465"
      },
      "execution_count": 68,
      "outputs": [
        {
          "output_type": "execute_result",
          "data": {
            "text/plain": [
              "5"
            ]
          },
          "metadata": {},
          "execution_count": 68
        }
      ]
    },
    {
      "cell_type": "code",
      "source": [
        "lst[0:2]"
      ],
      "metadata": {
        "colab": {
          "base_uri": "https://localhost:8080/"
        },
        "id": "wzCpc9MrNZ0x",
        "outputId": "a6ba1a27-b931-4cd6-b2a4-421e811317e2"
      },
      "execution_count": 69,
      "outputs": [
        {
          "output_type": "execute_result",
          "data": {
            "text/plain": [
              "[500, 5]"
            ]
          },
          "metadata": {},
          "execution_count": 69
        }
      ]
    },
    {
      "cell_type": "code",
      "source": [
        "lst.insert(2,\"Pepcoder\")"
      ],
      "metadata": {
        "id": "H61xAjWaNa_1"
      },
      "execution_count": 70,
      "outputs": []
    },
    {
      "cell_type": "code",
      "source": [
        "print(lst)"
      ],
      "metadata": {
        "colab": {
          "base_uri": "https://localhost:8080/"
        },
        "id": "7S9ucvTLNls-",
        "outputId": "f6658d77-743f-403b-c8a5-c1bf0786bb7b"
      },
      "execution_count": 71,
      "outputs": [
        {
          "output_type": "stream",
          "name": "stdout",
          "text": [
            "[500, 5, 'Pepcoder', 6, 7, 'Pepcoding', 5]\n"
          ]
        }
      ]
    },
    {
      "cell_type": "code",
      "source": [
        "lst.remove(6)"
      ],
      "metadata": {
        "id": "k9_04-cYNnAX"
      },
      "execution_count": 72,
      "outputs": []
    },
    {
      "cell_type": "code",
      "source": [
        "print(lst)"
      ],
      "metadata": {
        "colab": {
          "base_uri": "https://localhost:8080/"
        },
        "id": "wLZFDcSVNtP_",
        "outputId": "e386f832-1352-4736-b0ac-fbbca9dbb759"
      },
      "execution_count": 75,
      "outputs": [
        {
          "output_type": "stream",
          "name": "stdout",
          "text": [
            "[500, 5, 'Pepcoder', 7, 'Pepcoding']\n"
          ]
        }
      ]
    },
    {
      "cell_type": "code",
      "source": [
        "print(lst.pop())"
      ],
      "metadata": {
        "colab": {
          "base_uri": "https://localhost:8080/"
        },
        "id": "MtwG9ugqNvTx",
        "outputId": "1c52d96c-38b2-4f0a-bcd7-ec32fde9966a"
      },
      "execution_count": 74,
      "outputs": [
        {
          "output_type": "stream",
          "name": "stdout",
          "text": [
            "5\n"
          ]
        }
      ]
    },
    {
      "cell_type": "code",
      "source": [
        "for i in lst:\n",
        "  print(i)"
      ],
      "metadata": {
        "colab": {
          "base_uri": "https://localhost:8080/"
        },
        "id": "OvBj0KLJRQja",
        "outputId": "ad9a178f-7824-4405-c55b-63f7c70d4aba"
      },
      "execution_count": 92,
      "outputs": [
        {
          "output_type": "stream",
          "name": "stdout",
          "text": [
            "500\n",
            "5\n",
            "Pepcoder\n",
            "7\n",
            "Pepcoding\n"
          ]
        }
      ]
    },
    {
      "cell_type": "markdown",
      "source": [
        "### Tuple( )"
      ],
      "metadata": {
        "id": "iut5jXZvQK9N"
      }
    },
    {
      "cell_type": "code",
      "source": [
        "tup = (1,2,3,\"Hello\")"
      ],
      "metadata": {
        "id": "6LBu-vspQKjI"
      },
      "execution_count": 78,
      "outputs": []
    },
    {
      "cell_type": "code",
      "source": [
        "print(type(tup))"
      ],
      "metadata": {
        "colab": {
          "base_uri": "https://localhost:8080/"
        },
        "id": "qObie2TeNzsI",
        "outputId": "a12b5963-9fea-489b-876f-96c4eb915f8a"
      },
      "execution_count": 81,
      "outputs": [
        {
          "output_type": "stream",
          "name": "stdout",
          "text": [
            "<class 'tuple'>\n"
          ]
        }
      ]
    },
    {
      "cell_type": "code",
      "source": [
        "tup = 1,2,3,\"Hello\""
      ],
      "metadata": {
        "id": "5Kq98MbmQWTN"
      },
      "execution_count": 80,
      "outputs": []
    },
    {
      "cell_type": "code",
      "source": [
        "tup2 = (99,)"
      ],
      "metadata": {
        "id": "nRk99JZmQfsV"
      },
      "execution_count": 85,
      "outputs": []
    },
    {
      "cell_type": "code",
      "source": [
        "print(type(tup2))"
      ],
      "metadata": {
        "colab": {
          "base_uri": "https://localhost:8080/"
        },
        "id": "AOyPJ8oMQl4W",
        "outputId": "c1d510c0-356c-45c2-d114-1aca308e30fb"
      },
      "execution_count": 86,
      "outputs": [
        {
          "output_type": "stream",
          "name": "stdout",
          "text": [
            "<class 'tuple'>\n"
          ]
        }
      ]
    },
    {
      "cell_type": "code",
      "source": [
        "print(tup[0])"
      ],
      "metadata": {
        "colab": {
          "base_uri": "https://localhost:8080/"
        },
        "id": "rGObYhwmQnUp",
        "outputId": "493af73a-4198-4368-befc-38b9a932a2c7"
      },
      "execution_count": 87,
      "outputs": [
        {
          "output_type": "stream",
          "name": "stdout",
          "text": [
            "1\n"
          ]
        }
      ]
    },
    {
      "cell_type": "code",
      "source": [
        "tup[0] = 5"
      ],
      "metadata": {
        "colab": {
          "base_uri": "https://localhost:8080/",
          "height": 170
        },
        "id": "Z0YZZ4JjQxeE",
        "outputId": "ee923a5a-22d8-477b-aa8e-c9bd8e6ec716"
      },
      "execution_count": 88,
      "outputs": [
        {
          "output_type": "error",
          "ename": "TypeError",
          "evalue": "ignored",
          "traceback": [
            "\u001b[0;31m---------------------------------------------------------------------------\u001b[0m",
            "\u001b[0;31mTypeError\u001b[0m                                 Traceback (most recent call last)",
            "\u001b[0;32m<ipython-input-88-aeb61b0651cd>\u001b[0m in \u001b[0;36m<module>\u001b[0;34m()\u001b[0m\n\u001b[0;32m----> 1\u001b[0;31m \u001b[0mtup\u001b[0m\u001b[0;34m[\u001b[0m\u001b[0;36m0\u001b[0m\u001b[0;34m]\u001b[0m \u001b[0;34m=\u001b[0m \u001b[0;36m5\u001b[0m\u001b[0;34m\u001b[0m\u001b[0;34m\u001b[0m\u001b[0m\n\u001b[0m",
            "\u001b[0;31mTypeError\u001b[0m: 'tuple' object does not support item assignment"
          ]
        }
      ]
    },
    {
      "cell_type": "code",
      "source": [
        "for i in tup:\n",
        "  print(i)"
      ],
      "metadata": {
        "colab": {
          "base_uri": "https://localhost:8080/"
        },
        "id": "ykB3EqqEQ2IH",
        "outputId": "2b4909ec-2d65-47a0-e84f-c25255858663"
      },
      "execution_count": 89,
      "outputs": [
        {
          "output_type": "stream",
          "name": "stdout",
          "text": [
            "1\n",
            "2\n",
            "3\n",
            "Hello\n"
          ]
        }
      ]
    },
    {
      "cell_type": "code",
      "source": [
        "tup.append(5)"
      ],
      "metadata": {
        "colab": {
          "base_uri": "https://localhost:8080/",
          "height": 170
        },
        "id": "P5N9V-NjQ-Tl",
        "outputId": "340a8cfa-35f3-47de-aac4-fa28d80205a6"
      },
      "execution_count": 91,
      "outputs": [
        {
          "output_type": "error",
          "ename": "AttributeError",
          "evalue": "ignored",
          "traceback": [
            "\u001b[0;31m---------------------------------------------------------------------------\u001b[0m",
            "\u001b[0;31mAttributeError\u001b[0m                            Traceback (most recent call last)",
            "\u001b[0;32m<ipython-input-91-4c22b886f1e9>\u001b[0m in \u001b[0;36m<module>\u001b[0;34m()\u001b[0m\n\u001b[0;32m----> 1\u001b[0;31m \u001b[0mtup\u001b[0m\u001b[0;34m.\u001b[0m\u001b[0mappend\u001b[0m\u001b[0;34m(\u001b[0m\u001b[0;36m5\u001b[0m\u001b[0;34m)\u001b[0m\u001b[0;34m\u001b[0m\u001b[0;34m\u001b[0m\u001b[0m\n\u001b[0m",
            "\u001b[0;31mAttributeError\u001b[0m: 'tuple' object has no attribute 'append'"
          ]
        }
      ]
    },
    {
      "cell_type": "markdown",
      "source": [
        "### Sets { }"
      ],
      "metadata": {
        "id": "gK9yjIponMM4"
      }
    },
    {
      "cell_type": "code",
      "source": [
        ""
      ],
      "metadata": {
        "id": "RbF3hecBRC5u"
      },
      "execution_count": null,
      "outputs": []
    }
  ]
}